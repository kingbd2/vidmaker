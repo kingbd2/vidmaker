{
 "cells": [
  {
   "cell_type": "code",
   "execution_count": 4,
   "metadata": {},
   "outputs": [],
   "source": [
    "import skvideo.io\n",
    "import numpy as np\n",
    "\n",
    "outputdata = np.random.random(size=(5, 480, 680, 3)) * 255\n",
    "outputdata = outputdata.astype(np.uint8)\n",
    "\n",
    "skvideo.io.vwrite(\"outputvideo.mp4\", outputdata)\n"
   ]
  },
  {
   "cell_type": "code",
   "execution_count": 10,
   "metadata": {},
   "outputs": [],
   "source": [
    "import skvideo.io\n",
    "import numpy as np\n",
    "\n",
    "outputdata = np.random.random(size=(500, 480, 680, 3)) * 255\n",
    "outputdata = outputdata.astype(np.uint8)\n",
    "\n",
    "writer = skvideo.io.FFmpegWriter(\"outputvideo.mp4\")\n",
    "for i in range(500):\n",
    "        writer.writeFrame(outputdata[i, :, :, :])\n",
    "writer.close()"
   ]
  },
  {
   "cell_type": "code",
   "execution_count": null,
   "metadata": {},
   "outputs": [],
   "source": []
  }
 ],
 "metadata": {
  "kernelspec": {
   "display_name": "data_science",
   "language": "python",
   "name": "data_science"
  },
  "language_info": {
   "codemirror_mode": {
    "name": "ipython",
    "version": 3
   },
   "file_extension": ".py",
   "mimetype": "text/x-python",
   "name": "python",
   "nbconvert_exporter": "python",
   "pygments_lexer": "ipython3",
   "version": "3.6.4"
  }
 },
 "nbformat": 4,
 "nbformat_minor": 2
}
