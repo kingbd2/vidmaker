{
 "cells": [
  {
   "cell_type": "markdown",
   "metadata": {},
   "source": [
    "# Get average of many images"
   ]
  },
  {
   "cell_type": "code",
   "execution_count": 1,
   "metadata": {},
   "outputs": [],
   "source": [
    "import os, numpy as np, PIL\n",
    "from PIL import Image"
   ]
  },
  {
   "cell_type": "code",
   "execution_count": 2,
   "metadata": {},
   "outputs": [],
   "source": [
    "# Tensorflow imports\n",
    "import tensorflow as tf\n",
    "# import tensorflow.contrib.eager as tfe\n",
    "\n",
    "from tensorflow.python.keras.preprocessing import image as kp_image\n",
    "# from tensorflow.python.keras import models \n",
    "# from tensorflow.python.keras import losses\n",
    "# from tensorflow.python.keras import layers\n",
    "# from tensorflow.python.keras import backend as K"
   ]
  },
  {
   "cell_type": "code",
   "execution_count": 3,
   "metadata": {},
   "outputs": [],
   "source": [
    "# def convert_to_rgba(rgb_image):\n",
    "#     rgba = numpy.concatenate((rgb_image, numpy.zeros((205, 54, 1))), axis=2)\n",
    "#     return rgba"
   ]
  },
  {
   "cell_type": "code",
   "execution_count": 4,
   "metadata": {},
   "outputs": [],
   "source": [
    "# PIL Image.size -> width, height\n",
    "def load_img(path_to_img):\n",
    "    desired_size = 1200\n",
    "    img = Image.open(path_to_img)\n",
    "    img = img.convert('RGB')\n",
    "#     print(\"The image is \" + str(img.size) + \" in size\")\n",
    "    max_dim = max(img.size)\n",
    "#     print(\"The largest dimension is \" + str(max_dim))\n",
    "    scale = desired_size/max_dim\n",
    "#     print(\"Rescaling the image by \" + str(scale))\n",
    "    img = img.resize((round(img.size[0]*scale), round(img.size[1]*scale)), Image.ANTIALIAS)\n",
    "    w = img.size[0]\n",
    "    h = img.size[1]\n",
    "    img = kp_image.img_to_array(img)\n",
    "    # We need to broadcast the image array such that it has a batch dimension \n",
    "    # img = np.expand_dims(img, axis=0)\n",
    "    return max_dim, w, h, img"
   ]
  },
  {
   "cell_type": "code",
   "execution_count": 5,
   "metadata": {},
   "outputs": [],
   "source": [
    "def crop_img(img):\n",
    "    # Crop image to square\n",
    "    w, h = yourImage.size\n",
    "    img.crop((0, 30, w, h-30))"
   ]
  },
  {
   "cell_type": "code",
   "execution_count": 23,
   "metadata": {},
   "outputs": [],
   "source": [
    "image_category = 'medal'"
   ]
  },
  {
   "cell_type": "code",
   "execution_count": 24,
   "metadata": {},
   "outputs": [],
   "source": [
    "# Image folder path\n",
    "folder_path = '/images/downloads/' + image_category + '/'\n",
    "base_url = str(os.getcwd())"
   ]
  },
  {
   "cell_type": "code",
   "execution_count": 25,
   "metadata": {},
   "outputs": [],
   "source": [
    "image_path = base_url + folder_path"
   ]
  },
  {
   "cell_type": "code",
   "execution_count": 26,
   "metadata": {},
   "outputs": [],
   "source": [
    "# Access all PNG files in directory\n",
    "allfiles=os.listdir(image_path)\n",
    "imlist=[filename for filename in allfiles if  filename[-4:] in [\".png\",\".PNG\"]]"
   ]
  },
  {
   "cell_type": "code",
   "execution_count": 27,
   "metadata": {},
   "outputs": [
    {
     "data": {
      "text/plain": [
       "['37._2047946.png',\n",
       " '42._e8fb6d7c-483e-408c-8949-f7e36e6ccbb2.png',\n",
       " '33._d4a10ba3c068474b4a2f055ac2f70d61.png',\n",
       " '5._zz-4399-deacon-medal-with-chain__61878.1530203440.png',\n",
       " '85._do3wirtwaaajbvh.png',\n",
       " '62._ski-clipart-olympics-sport-2.png',\n",
       " '90._best-tonic-water-01.png',\n",
       " '24._1200px-philippine_legion_of_honor.svg.png',\n",
       " '30._goldmedaltournament-softball-logo.png',\n",
       " '61._williambarber-medal-high-resolution.png']"
      ]
     },
     "execution_count": 27,
     "metadata": {},
     "output_type": "execute_result"
    }
   ],
   "source": [
    "resized_image_list = imlist[0:10]\n",
    "resized_image_list"
   ]
  },
  {
   "cell_type": "code",
   "execution_count": 28,
   "metadata": {},
   "outputs": [
    {
     "name": "stdout",
     "output_type": "stream",
     "text": [
      "Processing image...\n",
      "1200 1200 1200\n",
      "Processing image...\n",
      "1200 1200 1200\n",
      "Processing image...\n",
      "1200 1200 1200\n",
      "Processing image...\n",
      "1200 1200 1200\n",
      "Processing image...\n",
      "1200 1200 1200\n",
      "Processing image...\n",
      "1200 1200 1200\n",
      "Processing image...\n",
      "1200 1200 1200\n",
      "Processing image...\n",
      "1200 1200 1200\n",
      "Processing image...\n",
      "1200 1200 1200\n",
      "Processing image...\n",
      "1200 1200 1200\n"
     ]
    }
   ],
   "source": [
    "N=len(resized_image_list)\n",
    "max_dim, w, h, img = load_img(image_path + resized_image_list[0])\n",
    "arr=np.zeros((1,h,w,3),np.float)\n",
    "for im in resized_image_list:\n",
    "    print(\"Processing image...\")\n",
    "    max_dim, w, h, imarr = load_img(image_path + im)\n",
    "    print(max_dim, w, h)\n",
    "    arr=arr+imarr/N"
   ]
  },
  {
   "cell_type": "code",
   "execution_count": 29,
   "metadata": {},
   "outputs": [],
   "source": [
    "# Round values in array and cast as 8-bit integer\n",
    "arr = np.array(np.round(arr),dtype=np.uint8)\n",
    "arr = arr.reshape((1200, 1200, 3))"
   ]
  },
  {
   "cell_type": "code",
   "execution_count": 30,
   "metadata": {},
   "outputs": [],
   "source": [
    "# Generate, save and preview final image\n",
    "out=Image.fromarray(arr,mode=\"RGB\")\n",
    "out.save(\"Average.png\")\n",
    "out.show()"
   ]
  },
  {
   "cell_type": "code",
   "execution_count": null,
   "metadata": {},
   "outputs": [],
   "source": []
  },
  {
   "cell_type": "code",
   "execution_count": null,
   "metadata": {},
   "outputs": [],
   "source": []
  },
  {
   "cell_type": "code",
   "execution_count": null,
   "metadata": {},
   "outputs": [],
   "source": []
  }
 ],
 "metadata": {
  "kernelspec": {
   "display_name": "py-image",
   "language": "python",
   "name": "py-image"
  },
  "language_info": {
   "codemirror_mode": {
    "name": "ipython",
    "version": 3
   },
   "file_extension": ".py",
   "mimetype": "text/x-python",
   "name": "python",
   "nbconvert_exporter": "python",
   "pygments_lexer": "ipython3",
   "version": "3.6.4"
  }
 },
 "nbformat": 4,
 "nbformat_minor": 2
}
